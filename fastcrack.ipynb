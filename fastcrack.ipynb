{
 "cells": [
  {
   "cell_type": "code",
   "execution_count": null,
   "id": "d8dd4fca-5512-4fed-9a24-d99b2d906e37",
   "metadata": {},
   "outputs": [],
   "source": [
    "import zipfile\n",
    "from tqdm import tqdm\n",
    "\n",
    "# the password list path you want to use, must be available in the current directory\n",
    "wordlist = \"wordlist.txt\"\n",
    "# the zip file you want to crack its password\n",
    "zip_file = \"secret.zip\"\n",
    "\n",
    "# initialize the Zip File object\n",
    "zip_file = zipfile.ZipFile(zip_file)\n",
    "# count the number of words in this wordlist\n",
    "n_words = len(list(open(wordlist, \"rb\")))\n",
    "# print the total number of passwords\n",
    "print(\"Total passwords to test:\", n_words)\n",
    "\n",
    "with open(wordlist, \"rb\") as wordlist:\n",
    "    for word in tqdm(wordlist, total=n_words, unit=\"word\"):\n",
    "        try:\n",
    "            zip_file.extractall(pwd=word.strip())\n",
    "        except:\n",
    "            continue\n",
    "        else:\n",
    "            print(\"[+] Password found:\", word.decode().strip())\n",
    "            exit(0)\n",
    "print(\"[!] Password not found, try other wordlist.\")"
   ]
  },
  {
   "cell_type": "code",
   "execution_count": null,
   "id": "699f20f8-519c-4d14-a989-e72519a2b94c",
   "metadata": {},
   "outputs": [],
   "source": []
  },
  {
   "cell_type": "code",
   "execution_count": null,
   "id": "f1ae56c6-aa5f-4043-b769-d6aae2bdff35",
   "metadata": {},
   "outputs": [],
   "source": []
  }
 ],
 "metadata": {
  "kernelspec": {
   "display_name": "Python 3 (ipykernel)",
   "language": "python",
   "name": "python3"
  },
  "language_info": {
   "codemirror_mode": {
    "name": "ipython",
    "version": 3
   },
   "file_extension": ".py",
   "mimetype": "text/x-python",
   "name": "python",
   "nbconvert_exporter": "python",
   "pygments_lexer": "ipython3",
   "version": "3.8.6"
  }
 },
 "nbformat": 4,
 "nbformat_minor": 5
}
